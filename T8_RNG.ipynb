{
  "nbformat": 4,
  "nbformat_minor": 0,
  "metadata": {
    "colab": {
      "provenance": []
    },
    "kernelspec": {
      "name": "python3",
      "display_name": "Python 3"
    },
    "language_info": {
      "name": "python"
    }
  },
  "cells": [
    {
      "cell_type": "markdown",
      "source": [
        "Simulasi Permainan Kasino dengan Random Number Generator (RNG)"
      ],
      "metadata": {
        "id": "obRiK3i7mAJM"
      }
    },
    {
      "cell_type": "code",
      "execution_count": 4,
      "metadata": {
        "colab": {
          "base_uri": "https://localhost:8080/",
          "height": 819
        },
        "id": "0qmLQsSNbglZ",
        "outputId": "6a57d785-46b5-4425-bdc4-666a8d8042df"
      },
      "outputs": [
        {
          "output_type": "stream",
          "name": "stdout",
          "text": [
            "\n",
            "Total Taruhan: $10000\n",
            "Total Pembayaran: $7950\n",
            "Return to Player (RTP): 79.50%\n",
            "\n",
            "Tabel Hasil Simulasi Mesin Slot:\n",
            "      Putaran                 Simbol  Payout\n",
            "0           1      Bell, Bell, Lemon       0\n",
            "1           2       Bar, Cherry, Bar       0\n",
            "2           3      Cherry, Bar, Bell       0\n",
            "3           4    Bell, Lemon, Cherry       0\n",
            "4           5     Cherry, Lemon, Bar       0\n",
            "...       ...                    ...     ...\n",
            "9995     9996             7, 7, Bell       0\n",
            "9996     9997     Bell, Cherry, Bell       0\n",
            "9997     9998        Bar, Bar, Lemon       0\n",
            "9998     9999          Bell, Bell, 7       0\n",
            "9999    10000  Cherry, Lemon, Cherry       0\n",
            "\n",
            "[10000 rows x 3 columns]\n"
          ]
        },
        {
          "output_type": "display_data",
          "data": {
            "text/plain": [
              "<Figure size 640x480 with 1 Axes>"
            ],
            "image/png": "[encoded data removed]"
          },
          "metadata": {}
        }
      ],
      "source": [
        "import numpy as np\n",
        "import pandas as pd\n",
        "import matplotlib.pyplot as plt\n",
        "\n",
        "# Parameter mesin slot\n",
        "symbols = [\"Cherry\", \"Lemon\", \"Bar\", \"7\", \"Bell\"]\n",
        "paylines = {\n",
        "    \"Cherry\": 5,\n",
        "    \"Lemon\": 10,\n",
        "    \"Bar\": 15,\n",
        "    \"7\": 50,\n",
        "    \"Bell\": 20\n",
        "}\n",
        "n_reels = 3  # Jumlah gulungan\n",
        "n_spins = 10000  # Jumlah putaran yang disimulasikan\n",
        "bet = 1  # Taruhan per putaran\n",
        "\n",
        "# Fungsi untuk menghasilkan hasil acak mesin slot\n",
        "def spin_slot():\n",
        "    return np.random.choice(symbols, size=n_reels, replace=True)\n",
        "\n",
        "# Fungsi untuk menghitung kemenangan berdasarkan kombinasi simbol\n",
        "def calculate_payout(reel_result):\n",
        "    unique, counts = np.unique(reel_result, return_counts=True)\n",
        "    payout = 0\n",
        "    for symbol, count in zip(unique, counts):\n",
        "        if count == 3:  # Kemenangan jika ada 3 simbol yang sama\n",
        "            payout += paylines[symbol]\n",
        "    return payout\n",
        "\n",
        "# Simulasi permainan mesin slot\n",
        "def simulate_slot_machine(n_spins):\n",
        "    results = []\n",
        "    total_bet = 0\n",
        "    total_payout = 0\n",
        "    payout_data = []\n",
        "\n",
        "    for spin in range(n_spins):\n",
        "        result = spin_slot()\n",
        "        payout = calculate_payout(result)\n",
        "        results.append(payout)\n",
        "        total_bet += bet\n",
        "        total_payout += payout\n",
        "        # Simpan data setiap putaran\n",
        "        payout_data.append({\n",
        "            \"Putaran\": spin + 1,\n",
        "            \"Simbol\": ', '.join(result),  # Menampilkan simbol dalam bentuk string\n",
        "            \"Payout\": payout\n",
        "        })\n",
        "\n",
        "    # Menghitung Return to Player (RTP)\n",
        "    rtp = (total_payout / total_bet) * 100\n",
        "    return payout_data, total_bet, total_payout, rtp, results\n",
        "\n",
        "# Jalankan simulasi\n",
        "payout_data, total_bet, total_payout, rtp, results = simulate_slot_machine(n_spins)\n",
        "\n",
        "# Membuat tabel menggunakan pandas\n",
        "df_payouts = pd.DataFrame(payout_data)\n",
        "\n",
        "# Menampilkan tabel hasil simulasi tanpa diagram\n",
        "print(f\"\\nTotal Taruhan: ${total_bet}\")\n",
        "print(f\"Total Pembayaran: ${total_payout}\")\n",
        "print(f\"Return to Player (RTP): {rtp:.2f}%\")\n",
        "\n",
        "# Menampilkan tabel hasil simulasi dengan format yang lebih rapi\n",
        "pd.set_option('display.max_rows', 10)  # Menampilkan hanya 10 baris pertama tabel\n",
        "pd.set_option('display.width', 1000)  # Lebar kolom yang cukup untuk menampilkan data\n",
        "print(\"\\nTabel Hasil Simulasi Mesin Slot:\")\n",
        "print(df_payouts)\n",
        "\n",
        "# Membuat histogram dari hasil pembayaran\n",
        "plt.hist(results, bins=range(0, max(results)+1, 5), edgecolor='black')\n",
        "plt.title(\"Distribusi Pembayaran Mesin Slot\")\n",
        "plt.xlabel(\"Jumlah Pembayaran\")\n",
        "plt.ylabel(\"Frekuensi\")\n",
        "plt.grid(True)\n",
        "plt.show()\n"
      ]
    },
    {
      "cell_type": "markdown",
      "source": [
        "Simulasi ini digunakan untuk memahami bagaimana mesin slot bekerja, menghitung pembayaran berdasarkan hasil acak, dan mengukur RTP berdasarkan data yang terkumpul dari banyak putaran."
      ],
      "metadata": {
        "id": "wEHGD6d9l4N7"
      }
    }
  ]
}